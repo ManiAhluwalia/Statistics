{
  "nbformat": 4,
  "nbformat_minor": 0,
  "metadata": {
    "colab": {
      "provenance": []
    },
    "kernelspec": {
      "name": "python3",
      "display_name": "Python 3"
    },
    "language_info": {
      "name": "python"
    }
  },
  "cells": [
    {
      "cell_type": "markdown",
      "source": [
        "###1. Explain the properties of the F-distribution."
      ],
      "metadata": {
        "id": "LRLJh7qnRwGs"
      }
    },
    {
      "cell_type": "markdown",
      "source": [
        "The F-distribution is a continuous probability distribution widely used in statistics, particularly in analysis of variance (ANOVA), regression analysis, and hypothesis testing. It is named after Sir Ronald Fisher, a pioneer in the field of statistics. Here are its key properties:\n",
        "\n",
        "**Shape:**\n",
        "\n",
        "The F-distribution is always skewed to the right.\n",
        "\n",
        "The shape of the distribution depends on two parameters: the degrees of freedom for the numerator (df1) and the degrees of freedom for the denominator (df2).\n",
        "\n",
        "As the degrees of freedom increase, the F-distribution becomes more symmetrical and approaches a normal distribution.\n",
        "\n",
        "**Range:**\n",
        "\n",
        "The F-distribution is defined for all non-negative values.\n",
        "\n",
        "The minimum value of the F-distribution is 0.\n",
        "\n",
        "**Parameters:**\n",
        "\n",
        "The F-distribution is characterized by two parameters:\n",
        "\n",
        "df1: Degrees of freedom for the numerator\n",
        "\n",
        "df2: Degrees of freedom for the denominator\n",
        "\n",
        "**Applications:**\n",
        "\n",
        "The F-distribution is widely used in hypothesis testing, particularly in:\n",
        "Analysis of variance (ANOVA)\n",
        "\n",
        "Regression analysis\n",
        "\n",
        "Comparing variances of two populations\n",
        "\n",
        "**F-statistic:**\n",
        "\n",
        "The F-statistic is a ratio of two variances, each based on a different set of degrees of freedom.\n",
        "\n",
        "It is calculated as: F = (variance1 / df1) / (variance2 / df2)\n",
        "\n",
        "**Critical values:**\n",
        "\n",
        "Critical values for the F-distribution are used to determine whether to reject or fail to reject a null hypothesis.\n",
        "\n",
        "These critical values are obtained from F-tables or statistical software, based on the desired significance level (e.g., 0.05) and the degrees of freedom.\n",
        "\n",
        "**P-value:**\n",
        "\n",
        "The p-value associated with an F-statistic is the probability of observing an F-value as extreme or more extreme than the calculated value, assuming the null hypothesis is true.\n",
        "\n",
        "A small p-value indicates strong evidence against the null hypothesis."
      ],
      "metadata": {
        "id": "NpbB86B5SFQk"
      }
    },
    {
      "cell_type": "markdown",
      "source": [
        "###2. In which types of statistical tests is the F-distribution used, and why is it appropriate for these tests?"
      ],
      "metadata": {
        "id": "hH95SqwfTQwm"
      }
    },
    {
      "cell_type": "markdown",
      "source": [
        "The F-distribution is primarily used in two types of statistical tests:\n",
        "\n",
        "**Comparing Variances:**\n",
        "\n",
        "One-way ANOVA (Analysis of Variance):\n",
        "\n",
        "Used to compare the means of three or more groups.\n",
        "\n",
        "The F-statistic is calculated by comparing the variance between groups (due to treatment effects) to the variance within groups (due to random error).\n",
        "\n",
        "If the F-statistic is large, it suggests that the differences between group means are significant, and the null hypothesis (that all group means are equal) is rejected.\n",
        "\n",
        "**Regression Analysis:**\n",
        "\n",
        "Overall Model Significance Test:\n",
        "\n",
        "Used to determine whether the overall regression model is statistically significant.\n",
        "\n",
        "The F-statistic compares the explained variance (due to the regression model) to the unexplained variance (due to random error).\n",
        "\n",
        "A large F-statistic indicates that the model explains a significant portion of the variability in the dependent variable.\n",
        "\n",
        "Why is the F-distribution appropriate for these tests?\n",
        "\n",
        "The F-distribution is appropriate for these tests because it arises naturally when comparing variances. It is derived from the ratio of two independent chi-square distributions, each divided by their respective degrees of freedom. In both ANOVA and regression analysis, we are essentially comparing the variability between groups or the explained variance to the variability within groups or the unexplained variance. The F-distribution provides a framework for evaluating the significance of these comparisons.\n",
        "\n",
        "Additionally, the F-distribution has several properties that make it suitable for hypothesis testing:\n",
        "\n",
        "It is always positive.\n",
        "\n",
        "It is skewed to the right.\n",
        "\n",
        "Its shape depends on two parameters, the degrees of freedom for the numerator and the denominator.\n",
        "\n",
        "As the degrees of freedom increase, the F-distribution approaches a normal distribution."
      ],
      "metadata": {
        "id": "L0Ni47ARTZXX"
      }
    },
    {
      "cell_type": "markdown",
      "source": [
        "###3. What are the key assumptions required for conducting an F-test to compare the variances of two populations?"
      ],
      "metadata": {
        "id": "QDrJdnHzT4oB"
      }
    },
    {
      "cell_type": "markdown",
      "source": [
        "To conduct an F-test to compare the variances of two populations, the following key assumptions must be met:\n",
        "\n",
        "Normality: Both populations from which the samples are drawn should be normally distributed. While the F-test is relatively robust to departures from normality, significant deviations can impact the accuracy of the results.\n",
        "\n",
        "**Independence:** The samples drawn from the two populations should be independent of each other. This means that the selection of one sample should not influence the selection of the other.\n",
        "\n",
        "**Equal Variances (Homoscedasticity):** This is a crucial assumption for the F-test. The two populations being compared should have equal variances. If this assumption is violated, the F-test may not be appropriate, and alternative tests like Levene's test or Bartlett's test can be used to assess homogeneity of variances.\n",
        "\n",
        "It's important to note that while the F-test is sensitive to violations of the normality assumption, it is relatively robust to departures from equal variances if the sample sizes are equal. However, when sample sizes are unequal, the F-test becomes more sensitive to violations of the equal variance assumption.\n",
        "\n",
        "Before conducting an F-test, it's advisable to assess the normality and homogeneity of variance assumptions. Visual inspection of histograms or quantile-quantile plots can be helpful for normality, while statistical tests like the Shapiro-Wilk test or Kolmogorov-Smirnov test can be used for a more formal assessment. Levene's test or Bartlett's test can be used to test the homogeneity of variances."
      ],
      "metadata": {
        "id": "8nWjL8msT9rK"
      }
    },
    {
      "cell_type": "markdown",
      "source": [
        "###4. What is the purpose of ANOVA, and how does it differ from a t-test?"
      ],
      "metadata": {
        "id": "eDvJXpULUUJd"
      }
    },
    {
      "cell_type": "markdown",
      "source": [
        "**Purpose of ANOVA**\n",
        "\n",
        "Analysis of Variance (ANOVA) is a statistical technique used to compare the means of two or more groups. It helps us determine if there are significant differences between the means of these groups. For instance, we might use ANOVA to compare the average test scores of students from different schools, the effectiveness of different drugs, or the yield of different crop varieties.\n",
        "\n",
        "**How ANOVA Differs from a T-test**\n",
        "\n",
        "A t-test, on the other hand, is used to compare the means of only two groups.\n",
        "It's a simpler technique compared to ANOVA.\n",
        "\n",
        "**Why Choose ANOVA over Multiple T-tests?**\n",
        "\n",
        "While it might seem tempting to compare multiple groups using multiple t-tests, this approach has a significant drawback: it increases the likelihood of Type I error (falsely rejecting the null hypothesis).\n",
        "\n",
        "ANOVA, on the other hand, controls for this issue by performing a single overall test."
      ],
      "metadata": {
        "id": "t80XoDVsUgKj"
      }
    },
    {
      "cell_type": "markdown",
      "source": [
        "###5.  Explain when and why you would use a one-way ANOVA instead of multiple t-tests when comparing more than two groups."
      ],
      "metadata": {
        "id": "EWJKmK35VIt7"
      }
    },
    {
      "cell_type": "markdown",
      "source": [
        "When comparing the means of more than two groups, a one-way ANOVA is generally preferred over multiple t-tests for the following reasons:\n",
        "\n",
        "**Controlling Type I Error Rate:**\n",
        "\n",
        "Multiple Comparisons Problem: Conducting multiple t-tests increases the likelihood of making a Type I error (falsely rejecting the null hypothesis). This is because the overall Type I error rate accumulates with each comparison.\n",
        "\n",
        "ANOVA's Advantage: ANOVA addresses this issue by performing a single overall test, controlling the Type I error rate at a specified level (e.g., 0.05).\n",
        "\n",
        "**Increased Statistical Power:**\n",
        "\n",
        "Pooling Variability: ANOVA pools the variability within each group to estimate the overall variability, which can lead to increased statistical power.\n",
        "More Precise Estimates: This pooled estimate is often more precise than the individual variance estimates used in multiple t-tests, especially when sample sizes are small.\n",
        "\n",
        "**Comprehensive Analysis:**\n",
        "\n",
        "Overall Significance: ANOVA provides an overall test of whether there are any significant differences among the group means.\n",
        "\n",
        "Pairwise Comparisons: If the overall ANOVA is significant, post-hoc tests (like Tukey's HSD or Bonferroni correction) can be used to identify specific pairwise differences between groups, controlling for the multiple comparisons problem."
      ],
      "metadata": {
        "id": "gOEtnOGqVTcE"
      }
    },
    {
      "cell_type": "markdown",
      "source": [
        "###6. Explain how variance is partitioned in ANOVA into between-group variance and within-group variance. How does this partitioning contribute to the calculation of the F-statistic?"
      ],
      "metadata": {
        "id": "nB1m0Gp5Vot9"
      }
    },
    {
      "cell_type": "markdown",
      "source": [
        "**Partitioning Variance in ANOVA**\n",
        "\n",
        "In ANOVA, the total variance in a dataset is partitioned into two components:\n",
        "\n",
        "Between-Group Variance: This measures the variability between the means of different groups. It represents the differences in the average values of the dependent variable across the different groups.\n",
        "\n",
        "Within-Group Variance: This measures the variability within each group. It represents the random variation or error that exists within each group, independent of the group differences.\n",
        "\n",
        "How Partitioning Contributes to the F-statistic\n",
        "\n",
        "The F-statistic, a key component of ANOVA, is calculated by comparing the between-group variance to the within-group variance. Specifically:\n",
        "\n",
        "    F-statistic = (Between-Group Variance) / (Within-Group Variance)\n",
        "\n",
        "Large F-statistic: If the between-group variance is significantly larger than the within-group variance, the F-statistic will be large. This suggests that the differences between the group means are substantial and likely not due to random chance.\n",
        "\n",
        "Small F-statistic: If the between-group variance is similar to the within-group variance, the F-statistic will be small. This indicates that the differences between the group means are likely due to random variation and not a systematic effect of the independent variable.\n",
        "\n",
        "By partitioning the variance, ANOVA allows us to assess the significance of the differences between group means. A significant F-statistic indicates that at least one group mean is different from the others, prompting further analysis (e.g., post-hoc tests) to determine which specific groups differ."
      ],
      "metadata": {
        "id": "6_RejKMpVt4P"
      }
    },
    {
      "cell_type": "markdown",
      "source": [
        "###7. Compare the classical (frequentist) approach to ANOVA with the Bayesian approach. What are the key differences in terms of how they handle uncertainty, parameter estimation, and hypothesis testing?"
      ],
      "metadata": {
        "id": "-ZDrTib9WOrf"
      }
    },
    {
      "cell_type": "markdown",
      "source": [
        "***Classical (Frequentist) vs. Bayesian ANOVA***\n",
        "\n",
        "**Handling Uncertainty**\n",
        "\n",
        "**Classical ANOVA:**\n",
        "\n",
        "Treats parameters as fixed, unknown quantities.\n",
        "Uncertainty is expressed in terms of confidence intervals and p-values, which are based on the sampling distribution of the statistic.\n",
        "It focuses on the long-run frequency of events, rather than probability as a degree of belief.\n",
        "\n",
        "**Bayesian ANOVA:**\n",
        "\n",
        "Treats parameters as random variables with probability distributions.\n",
        "Uncertainty is quantified using probability distributions, specifically the posterior distribution.\n",
        "It incorporates prior beliefs about the parameters, which are updated with the observed data to obtain the posterior distribution.\n",
        "\n",
        "**Parameter Estimation**\n",
        "\n",
        "**Classical ANOVA:**\n",
        "\n",
        "Uses point estimates (e.g., sample means) to estimate population parameters.\n",
        "Confidence intervals provide a range of plausible values for the parameter.Bayesian ANOVA:\n",
        "\n",
        "Provides a full probability distribution for the parameter, known as the posterior distribution.\n",
        "\n",
        "This distribution represents the uncertainty about the parameter, given the observed data and prior beliefs.\n",
        "\n",
        "Credible intervals are used to quantify uncertainty, representing the range of values within which the parameter is likely to fall with a certain probability.\n",
        "\n",
        "**Hypothesis Testing**\n",
        "\n",
        "**Classical ANOVA:**\n",
        "\n",
        "Formulates null and alternative hypotheses.\n",
        "\n",
        "Calculates a test statistic (e.g., F-statistic) and compares it to a critical value or p-value.\n",
        "\n",
        "Rejects the null hypothesis if the p-value is below a significance level (e.g., 0.05).\n",
        "\n",
        "**Bayesian ANOVA:**\n",
        "\n",
        "Directly calculates the probability of the null hypothesis being true, given the data.\n",
        "\n",
        "Compares the posterior probabilities of different hypotheses to make inferences.\n",
        "It doesn't rely on a fixed significance level but rather provides a more nuanced assessment of evidence."
      ],
      "metadata": {
        "id": "1hLnI-wXWbJe"
      }
    },
    {
      "cell_type": "markdown",
      "source": [
        "###8.  Question: You have two sets of data representing the incomes of two different professions:\n",
        "\n",
        "### Profession A: [48, 52, 55, 60, 62']\n",
        "### Profession B: [45, 50, 55, 52, 47] Perform an F-test to determine if the variances of the two professions' incomes are equal. What are your conclusions based on the F-test?\n",
        "\n",
        "### Task: Use Python to calculate the F-statistic and p-value for the given data.\n",
        "\n",
        "### Objective: Gain experience in performing F-tests and interpreting the results in terms of variance comparison."
      ],
      "metadata": {
        "id": "lPfucqRYXFh1"
      }
    },
    {
      "cell_type": "code",
      "source": [
        "import numpy as np\n",
        "import scipy.stats as stats\n",
        "\n",
        "# Data for the two professions\n",
        "profession_A = [48, 52, 55, 60, 62]\n",
        "profession_B = [45, 50, 55, 52, 47]\n",
        "\n",
        "# Perform the F-test\n",
        "f_statistic, p_value = stats.f_oneway(profession_A, profession_B)\n",
        "\n",
        "print(\"F-statistic:\", f_statistic)\n",
        "print(\"p-value:\", p_value)\n",
        "\n",
        "# Interpretation\n",
        "alpha = 0.05  # Significance level\n",
        "\n",
        "if p_value < alpha:\n",
        "    print(\"Reject the null hypothesis: Variances are significantly different.\")\n",
        "else:\n",
        "    print(\"Fail to reject the null hypothesis: Variances are not significantly different.\")"
      ],
      "metadata": {
        "colab": {
          "base_uri": "https://localhost:8080/"
        },
        "id": "s9jJXT37XxfP",
        "outputId": "11205c99-9709-43f1-becd-b0abe95b2eab"
      },
      "execution_count": 2,
      "outputs": [
        {
          "output_type": "stream",
          "name": "stdout",
          "text": [
            "F-statistic: 3.232989690721649\n",
            "p-value: 0.10987970118946545\n",
            "Fail to reject the null hypothesis: Variances are not significantly different.\n"
          ]
        }
      ]
    },
    {
      "cell_type": "markdown",
      "source": [
        "Interpretation:\n",
        "\n",
        "F-statistic: This value measures the ratio of the variance between the groups to the variance within the groups. A higher F-statistic suggests a larger difference in variances.\n",
        "\n",
        "p-value: This is the probability of observing an F-statistic as extreme or more extreme than the calculated one, assuming the null hypothesis (equal variances) is true."
      ],
      "metadata": {
        "id": "aEXgLPCdYc6u"
      }
    },
    {
      "cell_type": "markdown",
      "source": [
        "###9. Question: Conduct a one-way ANOVA to test whether there are any statistically significant differences in average heights between three different regions with the following data:\n",
        "### Region A: [160, 162, 165, 158, 164']\n",
        "### Region B: [172, 175, 170, 168, 174']\n",
        "### Region C: [180, 182, 179, 185, 183']\n",
        "### Task: Write Python code to perform the one-way ANOVA and interpret the results.\n",
        "### Objective: Learn how to perform one-way ANOVA using Python and interpret F-statistic and p-value."
      ],
      "metadata": {
        "id": "Cdz-lWfJYucP"
      }
    },
    {
      "cell_type": "code",
      "source": [
        "import numpy as np\n",
        "import scipy.stats as stats\n",
        "\n",
        "# Data for the three regions\n",
        "region_A = [160, 162, 165, 158, 164]\n",
        "region_B = [172, 175, 170, 168, 174]\n",
        "region_C = [180, 182, 179, 185, 183]\n",
        "\n",
        "# Perform one-way ANOVA\n",
        "f_statistic, p_value = stats.f_oneway(region_A, region_B, region_C)\n",
        "\n",
        "print(\"F-statistic:\", f_statistic)\n",
        "print(\"p-value:\", p_value)\n",
        "\n",
        "# Interpretation\n",
        "alpha = 0.05  # Significance level\n",
        "\n",
        "if p_value < alpha:\n",
        "    print(\"Reject the null hypothesis: There is a significant difference in average heights between the regions.\")\n",
        "else:\n",
        "    print(\"Fail to reject the null hypothesis: There is no significant difference in average heights between the regions.\")"
      ],
      "metadata": {
        "colab": {
          "base_uri": "https://localhost:8080/"
        },
        "id": "g-qnnRK9ZNU1",
        "outputId": "960b14ca-f63f-4e9f-91b0-23d5c2c087e4"
      },
      "execution_count": 3,
      "outputs": [
        {
          "output_type": "stream",
          "name": "stdout",
          "text": [
            "F-statistic: 67.87330316742101\n",
            "p-value: 2.870664187937026e-07\n",
            "Reject the null hypothesis: There is a significant difference in average heights between the regions.\n"
          ]
        }
      ]
    },
    {
      "cell_type": "markdown",
      "source": [
        "Interpretation:\n",
        "\n",
        "F-statistic: This value measures the ratio of the variance between the groups to the variance within the groups. A higher F-statistic suggests a larger difference in average heights between the regions.\n",
        "\n",
        "p-value: This is the probability of observing an F-statistic as extreme or more extreme than the calculated one, assuming the null hypothesis (equal means) is true."
      ],
      "metadata": {
        "id": "jh-NFOHGZd9g"
      }
    },
    {
      "cell_type": "code",
      "source": [],
      "metadata": {
        "id": "6hAwjPnqZh0Z"
      },
      "execution_count": null,
      "outputs": []
    }
  ]
}